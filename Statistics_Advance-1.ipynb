{
 "cells": [
  {
   "cell_type": "code",
   "execution_count": 1,
   "metadata": {},
   "outputs": [
    {
     "data": {
      "text/plain": [
       "\"The Probability Density Function (PDF) is a concept in probability theory and statistics that describes the likelihood of a continuous random variable taking on a particular value within a specific range. \\nIt's used to define the distribution of continuous random variables. For a PDF, the area under the curve within a certain interval corresponds to the probability that the random variable falls within that interval. \\nIn mathematical terms, for a continuous random variable X, the PDF is denoted as f(x), and the probability that X falls within the interval [a, b] is given by the integral of f(x) over that interval.\""
      ]
     },
     "execution_count": 1,
     "metadata": {},
     "output_type": "execute_result"
    }
   ],
   "source": [
    "# Q1\n",
    "'''The Probability Density Function (PDF) is a concept in probability theory and statistics that describes the likelihood of a continuous random variable taking on a particular value within a specific range. \n",
    "It's used to define the distribution of continuous random variables. For a PDF, the area under the curve within a certain interval corresponds to the probability that the random variable falls within that interval. \n",
    "In mathematical terms, for a continuous random variable X, the PDF is denoted as f(x), and the probability that X falls within the interval [a, b] is given by the integral of f(x) over that interval.'''"
   ]
  },
  {
   "cell_type": "code",
   "execution_count": 2,
   "metadata": {},
   "outputs": [
    {
     "data": {
      "text/plain": [
       "\"There are several types of probability distributions, including:\\n\\n1.Normal Distribution: A bell-shaped distribution that is symmetric and characterized by its mean and standard deviation.\\n2.Binomial Distribution: Describes the number of successes in a fixed number of independent Bernoulli trials.\\n3.Poisson Distribution: Models the number of events occurring in a fixed interval of time or space.\\n4.Exponential Distribution: Models the time between events in a Poisson process.\\n5.Uniform Distribution: All outcomes in a given interval are equally likely.\\n6.Gamma Distribution: Often used to model waiting times or the sum of exponential random variables.\\n7.Chi-squared Distribution: Arises in the context of the sum of squared standard normal variables.\\n8.Student's t-Distribution: Used in hypothesis testing and confidence interval calculations.\\n9.F-Distribution: Often used in the analysis of variance and regression.\\n\""
      ]
     },
     "execution_count": 2,
     "metadata": {},
     "output_type": "execute_result"
    }
   ],
   "source": [
    "# Q2\n",
    "'''There are several types of probability distributions, including:\n",
    "\n",
    "1.Normal Distribution: A bell-shaped distribution that is symmetric and characterized by its mean and standard deviation.\n",
    "2.Binomial Distribution: Describes the number of successes in a fixed number of independent Bernoulli trials.\n",
    "3.Poisson Distribution: Models the number of events occurring in a fixed interval of time or space.\n",
    "4.Exponential Distribution: Models the time between events in a Poisson process.\n",
    "5.Uniform Distribution: All outcomes in a given interval are equally likely.\n",
    "6.Gamma Distribution: Often used to model waiting times or the sum of exponential random variables.\n",
    "7.Chi-squared Distribution: Arises in the context of the sum of squared standard normal variables.\n",
    "8.Student's t-Distribution: Used in hypothesis testing and confidence interval calculations.\n",
    "9.F-Distribution: Often used in the analysis of variance and regression.\n",
    "'''"
   ]
  },
  {
   "cell_type": "code",
   "execution_count": 3,
   "metadata": {},
   "outputs": [
    {
     "data": {
      "text/plain": [
       "0.24197072451914337"
      ]
     },
     "execution_count": 3,
     "metadata": {},
     "output_type": "execute_result"
    }
   ],
   "source": [
    "# Q3\n",
    "import math\n",
    "\n",
    "def normal_pdf(x, mean, std_dev):\n",
    "    coefficient = 1 / (std_dev * math.sqrt(2 * math.pi))\n",
    "    exponent = -0.5 * ((x - mean) / std_dev)**2\n",
    "    pdf_value = coefficient * math.exp(exponent)\n",
    "    return pdf_value\n",
    "normal_pdf(1, 0, 1)"
   ]
  },
  {
   "cell_type": "code",
   "execution_count": 4,
   "metadata": {},
   "outputs": [
    {
     "data": {
      "text/plain": [
       "'Properties of the Binomial distribution:\\n\\n1.The trials are independent.\\n2.Each trial has only two outcomes: success or failure.\\n3.The probability of success (p) remains constant across trials.\\n4.The number of trials (n) is fixed.\\nExamples of events where the binomial distribution can be applied:\\n\\nCoin Flips: The number of heads obtained in a fixed number of coin flips.\\nProduct Defects: The number of defective items in a sample from a production batch.'"
      ]
     },
     "execution_count": 4,
     "metadata": {},
     "output_type": "execute_result"
    }
   ],
   "source": [
    "# Q4\n",
    "'''Properties of the Binomial distribution:\n",
    "\n",
    "1.The trials are independent.\n",
    "2.Each trial has only two outcomes: success or failure.\n",
    "3.The probability of success (p) remains constant across trials.\n",
    "4.The number of trials (n) is fixed.\n",
    "Examples of events where the binomial distribution can be applied:\n",
    "\n",
    "Coin Flips: The number of heads obtained in a fixed number of coin flips.\n",
    "Product Defects: The number of defective items in a sample from a production batch.'''"
   ]
  },
  {
   "cell_type": "code",
   "execution_count": 5,
   "metadata": {},
   "outputs": [
    {
     "data": {
      "image/png": "[encoded data removed]",
      "text/plain": [
       "<Figure size 640x480 with 1 Axes>"
      ]
     },
     "metadata": {},
     "output_type": "display_data"
    }
   ],
   "source": [
    "# Q5\n",
    "import matplotlib.pyplot as plt\n",
    "import numpy as np\n",
    "\n",
    "sample = np.random.binomial(n=1, p=0.4, size=1000)\n",
    "plt.hist(sample, bins=2, align='mid', rwidth=0.8)\n",
    "plt.xlabel('Success (1) / Failure (0)')\n",
    "plt.ylabel('Frequency')\n",
    "plt.title('Binomial Distribution Sample')\n",
    "plt.show()\n"
   ]
  },
  {
   "cell_type": "code",
   "execution_count": 6,
   "metadata": {},
   "outputs": [
    {
     "data": {
      "text/plain": [
       "0.5438131158833295"
      ]
     },
     "execution_count": 6,
     "metadata": {},
     "output_type": "execute_result"
    }
   ],
   "source": [
    "# Q6\n",
    "import math\n",
    "\n",
    "def poisson_cdf(k, mean):\n",
    "    cdf_value = sum((mean**i) * math.exp(-mean) / math.factorial(i) for i in range(int(k) + 1))\n",
    "    return cdf_value\n",
    "poisson_cdf(2, 2.5)"
   ]
  },
  {
   "cell_type": "code",
   "execution_count": 7,
   "metadata": {},
   "outputs": [
    {
     "data": {
      "text/plain": [
       "'The key differences include the nature of events modeled and the assumptions made about the process generating those events.\\nBinomial distribution models a fixed number of independent trials with two outcomes (success/failure), while the Poisson distribution models the number of events occurring in a fixed interval of time or space.'"
      ]
     },
     "execution_count": 7,
     "metadata": {},
     "output_type": "execute_result"
    }
   ],
   "source": [
    "# Q7\n",
    "'''The key differences include the nature of events modeled and the assumptions made about the process generating those events.\n",
    "Binomial distribution models a fixed number of independent trials with two outcomes (success/failure), while the Poisson distribution models the number of events occurring in a fixed interval of time or space.'''"
   ]
  },
  {
   "cell_type": "code",
   "execution_count": 8,
   "metadata": {},
   "outputs": [
    {
     "name": "stdout",
     "output_type": "stream",
     "text": [
      "Sample Mean: 4.904\n",
      "Sample Variance: 5.342784\n"
     ]
    }
   ],
   "source": [
    "# Q8\n",
    "import numpy as np\n",
    "sample_poisson = np.random.poisson(lam=5, size=1000)\n",
    "sample_mean = np.mean(sample_poisson)\n",
    "sample_variance = np.var(sample_poisson)\n",
    "print(\"Sample Mean:\", sample_mean)\n",
    "print(\"Sample Variance:\", sample_variance)\n"
   ]
  },
  {
   "cell_type": "code",
   "execution_count": 9,
   "metadata": {},
   "outputs": [
    {
     "data": {
      "text/plain": [
       "'In both the Binomial and Poisson distributions, the mean (μ) and variance (σ^2) are related. For the Binomial distribution, the mean is μ = n * p, and the variance is σ^2 = n * p * (1 - p), \\nwhere n is the number of trials and p is the probability of success. For the Poisson distribution, both the mean and variance are equal and are denoted by λ (λ = μ).'"
      ]
     },
     "execution_count": 9,
     "metadata": {},
     "output_type": "execute_result"
    }
   ],
   "source": [
    "# Q9\n",
    "'''In both the Binomial and Poisson distributions, the mean (μ) and variance (σ^2) are related. For the Binomial distribution, the mean is μ = n * p, and the variance is σ^2 = n * p * (1 - p), \n",
    "where n is the number of trials and p is the probability of success. For the Poisson distribution, both the mean and variance are equal and are denoted by λ (λ = μ).'''"
   ]
  },
  {
   "cell_type": "code",
   "execution_count": 10,
   "metadata": {},
   "outputs": [
    {
     "data": {
      "text/plain": [
       "'In a normal distribution, the least frequent data appears in the tails, specifically in the extreme values that are far away from the mean. \\nThese extreme values have lower probabilities associated with them, leading to their infrequent occurrence.'"
      ]
     },
     "execution_count": 10,
     "metadata": {},
     "output_type": "execute_result"
    }
   ],
   "source": [
    "# Q10\n",
    "'''In a normal distribution, the least frequent data appears in the tails, specifically in the extreme values that are far away from the mean. \n",
    "These extreme values have lower probabilities associated with them, leading to their infrequent occurrence.'''"
   ]
  }
 ],
 "metadata": {
  "kernelspec": {
   "display_name": "Python 3",
   "language": "python",
   "name": "python3"
  },
  "language_info": {
   "codemirror_mode": {
    "name": "ipython",
    "version": 3
   },
   "file_extension": ".py",
   "mimetype": "text/x-python",
   "name": "python",
   "nbconvert_exporter": "python",
   "pygments_lexer": "ipython3",
   "version": "3.11.4"
  },
  "orig_nbformat": 4
 },
 "nbformat": 4,
 "nbformat_minor": 2
}
